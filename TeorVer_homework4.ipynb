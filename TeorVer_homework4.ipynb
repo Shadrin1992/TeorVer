{
  "metadata": {
    "language_info": {
      "codemirror_mode": {
        "name": "python",
        "version": 3
      },
      "file_extension": ".py",
      "mimetype": "text/x-python",
      "name": "python",
      "nbconvert_exporter": "python",
      "pygments_lexer": "ipython3",
      "version": "3.8"
    },
    "kernelspec": {
      "name": "python",
      "display_name": "Python (Pyodide)",
      "language": "python"
    }
  },
  "nbformat_minor": 4,
  "nbformat": 4,
  "cells": [
    {
      "cell_type": "code",
      "source": "import math",
      "metadata": {
        "trusted": true
      },
      "execution_count": 7,
      "outputs": []
    },
    {
      "cell_type": "markdown",
      "source": "Задача 1.  \nСлучайная непрерывная величина A имеет равномерное распределение на промежутке (200, 800].\nНайдите ее среднее значение и дисперсию.",
      "metadata": {}
    },
    {
      "cell_type": "code",
      "source": "(200+800)/2",
      "metadata": {
        "trusted": true
      },
      "execution_count": 34,
      "outputs": [
        {
          "execution_count": 34,
          "output_type": "execute_result",
          "data": {
            "text/plain": "500.0"
          },
          "metadata": {}
        }
      ]
    },
    {
      "cell_type": "code",
      "source": "((800-200)**2)/12",
      "metadata": {
        "trusted": true
      },
      "execution_count": 35,
      "outputs": [
        {
          "execution_count": 35,
          "output_type": "execute_result",
          "data": {
            "text/plain": "30000.0"
          },
          "metadata": {}
        }
      ]
    },
    {
      "cell_type": "markdown",
      "source": "Задача 2.   \nО случайной непрерывной равномерно распределенной величине B известно, что ее дисперсия равна 0.2.\nМожно ли найти правую границу величины B и ее среднее значение зная, что левая граница равна 0.5?\nЕсли да, найдите ее.",
      "metadata": {}
    },
    {
      "cell_type": "markdown",
      "source": "Нельзя\n\n",
      "metadata": {}
    },
    {
      "cell_type": "markdown",
      "source": "Задача 3 f(x) = (1 / (4 * sqrt(2pi))) * exp((-(x+2)**2) / 32)",
      "metadata": {}
    },
    {
      "cell_type": "markdown",
      "source": "M(X) = -2\nD(X)  = 4\nstd(X) = 2",
      "metadata": {}
    },
    {
      "cell_type": "markdown",
      "source": "Задача 4.  \nРост взрослого населения города X имеет нормальное распределение.\nПричем, средний рост равен 174 см, а среднее квадратичное отклонение равно 8 см.\nКакова вероятность того, что случайным образом выбранный взрослый человек имеет рост:  \nа). больше 182 см  \nб). больше 190 см  \nв). от 166 см до 190 см  \nг). от 166 см до 182 см  \nд). от 158 см до 190 см  \nе). не выше 150 см или не ниже 190 см  \nё). не выше 150 см или не ниже 198 см  \nж). ниже 166 см.",
      "metadata": {}
    },
    {
      "cell_type": "code",
      "source": "def stand(x):\n    m = 174\n    s = 8\n    result = (x - m)/s\n    return result\n#a\nstand(182)",
      "metadata": {
        "trusted": true
      },
      "execution_count": 9,
      "outputs": [
        {
          "execution_count": 9,
          "output_type": "execute_result",
          "data": {
            "text/plain": "1.0"
          },
          "metadata": {}
        }
      ]
    },
    {
      "cell_type": "code",
      "source": "p = (1 - 0.8413)*100\nround(p, 2)",
      "metadata": {
        "trusted": true
      },
      "execution_count": 17,
      "outputs": [
        {
          "execution_count": 17,
          "output_type": "execute_result",
          "data": {
            "text/plain": "15.87"
          },
          "metadata": {}
        }
      ]
    },
    {
      "cell_type": "code",
      "source": "#б\nstand(190)",
      "metadata": {
        "trusted": true
      },
      "execution_count": 13,
      "outputs": [
        {
          "execution_count": 13,
          "output_type": "execute_result",
          "data": {
            "text/plain": "2.0"
          },
          "metadata": {}
        }
      ]
    },
    {
      "cell_type": "code",
      "source": "p = (1 - 0.9772)*100\nround(p, 2)",
      "metadata": {
        "trusted": true
      },
      "execution_count": 18,
      "outputs": [
        {
          "execution_count": 18,
          "output_type": "execute_result",
          "data": {
            "text/plain": "2.28"
          },
          "metadata": {}
        }
      ]
    },
    {
      "cell_type": "code",
      "source": "#в\nprint(stand(166))\nprint(stand(190))",
      "metadata": {
        "trusted": true
      },
      "execution_count": 20,
      "outputs": [
        {
          "name": "stdout",
          "text": "-1.0\n2.0\n",
          "output_type": "stream"
        }
      ]
    },
    {
      "cell_type": "code",
      "source": "p = (0.9772-0.1587)*100\nround(p, 2)",
      "metadata": {
        "trusted": true
      },
      "execution_count": 24,
      "outputs": [
        {
          "execution_count": 24,
          "output_type": "execute_result",
          "data": {
            "text/plain": "81.85"
          },
          "metadata": {}
        }
      ]
    },
    {
      "cell_type": "code",
      "source": "#г\nprint(stand(166))\nprint(stand(182))",
      "metadata": {
        "trusted": true
      },
      "execution_count": 22,
      "outputs": [
        {
          "name": "stdout",
          "text": "-1.0\n1.0\n",
          "output_type": "stream"
        }
      ]
    },
    {
      "cell_type": "code",
      "source": "p = (0.8413-0.1587)*100\nround(p, 2)",
      "metadata": {
        "trusted": true
      },
      "execution_count": 25,
      "outputs": [
        {
          "execution_count": 25,
          "output_type": "execute_result",
          "data": {
            "text/plain": "68.26"
          },
          "metadata": {}
        }
      ]
    },
    {
      "cell_type": "code",
      "source": "#д\nprint(stand(158))\nprint(stand(190))",
      "metadata": {
        "trusted": true
      },
      "execution_count": 26,
      "outputs": [
        {
          "name": "stdout",
          "text": "-2.0\n2.0\n",
          "output_type": "stream"
        }
      ]
    },
    {
      "cell_type": "code",
      "source": "p = (0.9772-0.0228)*100\nround(p, 2)",
      "metadata": {
        "trusted": true
      },
      "execution_count": 27,
      "outputs": [
        {
          "execution_count": 27,
          "output_type": "execute_result",
          "data": {
            "text/plain": "95.44"
          },
          "metadata": {}
        }
      ]
    },
    {
      "cell_type": "code",
      "source": "#е\nprint(stand(150))\nprint(stand(190))",
      "metadata": {
        "trusted": true
      },
      "execution_count": 28,
      "outputs": [
        {
          "name": "stdout",
          "text": "-3.0\n2.0\n",
          "output_type": "stream"
        }
      ]
    },
    {
      "cell_type": "code",
      "source": "p = ((1-0.9772)+(1-0.9987))*100\nround(p, 2)",
      "metadata": {
        "trusted": true
      },
      "execution_count": 29,
      "outputs": [
        {
          "execution_count": 29,
          "output_type": "execute_result",
          "data": {
            "text/plain": "2.41"
          },
          "metadata": {}
        }
      ]
    },
    {
      "cell_type": "code",
      "source": "#ё\nprint(stand(150))\nprint(stand(198))",
      "metadata": {
        "trusted": true
      },
      "execution_count": 30,
      "outputs": [
        {
          "name": "stdout",
          "text": "-3.0\n3.0\n",
          "output_type": "stream"
        }
      ]
    },
    {
      "cell_type": "code",
      "source": "p = ((1-0.9987)+(1-0.9987))*100\nround(p, 2)",
      "metadata": {
        "trusted": true
      },
      "execution_count": 31,
      "outputs": [
        {
          "execution_count": 31,
          "output_type": "execute_result",
          "data": {
            "text/plain": "0.26"
          },
          "metadata": {}
        }
      ]
    },
    {
      "cell_type": "code",
      "source": "#ж\nstand(166)",
      "metadata": {
        "trusted": true
      },
      "execution_count": 32,
      "outputs": [
        {
          "execution_count": 32,
          "output_type": "execute_result",
          "data": {
            "text/plain": "-1.0"
          },
          "metadata": {}
        }
      ]
    },
    {
      "cell_type": "code",
      "source": "p = 0.1587*100\nround(p, 2)",
      "metadata": {
        "trusted": true
      },
      "execution_count": 33,
      "outputs": [
        {
          "execution_count": 33,
          "output_type": "execute_result",
          "data": {
            "text/plain": "15.87"
          },
          "metadata": {}
        }
      ]
    },
    {
      "cell_type": "markdown",
      "source": "Задача 5. На сколько сигм (средних квадратичных отклонений) отклоняется рост человека, равный 190 см, от математического ожидания роста в популяции, в которой M(X) = 178 см и D(X) = 25 кв.см?",
      "metadata": {}
    },
    {
      "cell_type": "code",
      "source": "sigma = math.sqrt(25)\nx = 190\nm_x = 178\n\n(x - m_x)/sigma",
      "metadata": {
        "trusted": true
      },
      "execution_count": 4,
      "outputs": [
        {
          "execution_count": 4,
          "output_type": "execute_result",
          "data": {
            "text/plain": "2.4"
          },
          "metadata": {}
        }
      ]
    },
    {
      "cell_type": "code",
      "source": "",
      "metadata": {},
      "execution_count": null,
      "outputs": []
    }
  ]
}