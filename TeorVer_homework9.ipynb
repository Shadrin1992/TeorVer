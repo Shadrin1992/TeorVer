{
  "metadata": {
    "language_info": {
      "codemirror_mode": {
        "name": "python",
        "version": 3
      },
      "file_extension": ".py",
      "mimetype": "text/x-python",
      "name": "python",
      "nbconvert_exporter": "python",
      "pygments_lexer": "ipython3",
      "version": "3.8"
    },
    "kernelspec": {
      "name": "python",
      "display_name": "Python (Pyodide)",
      "language": "python"
    }
  },
  "nbformat_minor": 4,
  "nbformat": 4,
  "cells": [
    {
      "cell_type": "markdown",
      "source": "**Задача 1.** Даны значения величины заработной платы заемщиков банка (zp) и значения их поведенческого кредитного скоринга (ks): zp = [35, 45, 190, 200, 40, 70, 54, 150, 120, 110], ks = [401, 574, 874, 919, 459, 739, 653, 902, 746, 832]. Используя математические операции, посчитать коэффициенты линейной регрессии, приняв за X заработную плату (то есть, zp - признак), а за y - значения скорингового балла (то есть, ks - целевая переменная). Произвести расчет как с использованием intercept, так и без.",
      "metadata": {}
    },
    {
      "cell_type": "code",
      "source": "import numpy as np\nfrom scipy import stats",
      "metadata": {
        "trusted": true
      },
      "execution_count": 1,
      "outputs": []
    },
    {
      "cell_type": "code",
      "source": "zp = np.array([35, 45, 190, 200, 40, 70, 54, 150, 120, 110])\nks = np.array([401, 574, 874, 919, 459, 739, 653, 902, 746, 832])\n\nn = 10\n\nb1 = (np.mean(zp*ks)-np.mean(zp)*np.mean(ks))/(np.mean(zp**2)-np.mean(zp)**2)\nb0 = np.mean(ks)-b1*np.mean(zp)\nprint(f'Коэффициент b1: {b1}, Коэффициент b0: {b0}')",
      "metadata": {
        "trusted": true
      },
      "execution_count": 2,
      "outputs": [
        {
          "name": "stdout",
          "text": "Коэффициент b1: 2.620538882402765, Коэффициент b0: 444.1773573243596\n",
          "output_type": "stream"
        }
      ]
    },
    {
      "cell_type": "code",
      "source": "b1 = np.sum(zp*ks)/np.sum(zp**2)\nprint(f'Коэффициент b1 без интерсепта: {round(b1,2)}')",
      "metadata": {
        "trusted": true
      },
      "execution_count": 3,
      "outputs": [
        {
          "name": "stdout",
          "text": "Коэффициент b1 без интерсепта: 5.89\n",
          "output_type": "stream"
        }
      ]
    },
    {
      "cell_type": "markdown",
      "source": "**Задача 2.** Посчитать коэффициент линейной регрессии при заработной плате (zp), используя градиентный спуск (без intercept).",
      "metadata": {}
    },
    {
      "cell_type": "code",
      "source": "def mse(b1, x=zp, y=ks, n=10):\n    return np.sum((b1*x-y)**2)/n\n\nb1=0.1\nalpha = 0.000003\n\nfor i in range (3000):\n    b1 -= alpha * (2/n) * np.sum((b1 * zp - ks) * zp)\n    if i % 500 == 0:\n        print(f'Итеррация = {i}, b1 = {b1}, mse = {mse(b1)}')",
      "metadata": {
        "trusted": true
      },
      "execution_count": 4,
      "outputs": [
        {
          "name": "stdout",
          "text": "Итеррация = 0, b1 = 0.5785842400000001, mse = 445144.13314318506\nИтеррация = 500, b1 = 5.889820420132684, mse = 56516.85841571941\nИтеррация = 1000, b1 = 5.889820420132684, mse = 56516.85841571941\nИтеррация = 1500, b1 = 5.889820420132684, mse = 56516.85841571941\nИтеррация = 2000, b1 = 5.889820420132684, mse = 56516.85841571941\nИтеррация = 2500, b1 = 5.889820420132684, mse = 56516.85841571941\n",
          "output_type": "stream"
        }
      ]
    },
    {
      "cell_type": "markdown",
      "source": "**Задача 3.** Произвести вычисления как в пункте 2, но с вычислением intercept. Учесть, что изменение коэффициентов должно производиться на каждом шаге одновременно (то есть изменение одного коэффициента не должно влиять на изменение другого во время одной итерации).",
      "metadata": {}
    },
    {
      "cell_type": "code",
      "source": "def mse(b1, b0, x=zp, y=ks, n=10):\n    return np.sum((b0 + b1 * x - y)**2)/n\n\nb1 = 0.1\nb0 = 0.1\nalpha = 5e-5\n\nfor i in range (400000):\n    b0 -= alpha * (2/n) * np.sum((b0 + b1 * zp - ks))\n    b1 -= alpha * (2/n) * np.sum((b0 + b1 * zp - ks) * zp)\n    if i % 80000 == 0:\n        print(f'Итеррация = {i}, b1 = {b1}, b0 = {b0} mse = {mse(b1, b0)}')",
      "metadata": {
        "trusted": true
      },
      "execution_count": 5,
      "outputs": [
        {
          "name": "stdout",
          "text": "Итеррация = 0, b1 = 8.074680544760001, b0 = 0.169966 mse = 122318.06397097581\nИтеррация = 80000, b1 = 3.0500233365073157, b0 = 385.8255163330167 mse = 7334.127327222927\nИтеррация = 160000, b1 = 2.6769800607597714, b0 = 436.5089850855584 mse = 6485.330695502134\nИтеррация = 240000, b1 = 2.6279561627813313, b0 = 443.16960963733175 mse = 6470.671811946081\nИтеррация = 320000, b1 = 2.6215136325730373, b0 = 444.0449230385586 mse = 6470.418650164945\n",
          "output_type": "stream"
        }
      ]
    },
    {
      "cell_type": "code",
      "source": "",
      "metadata": {},
      "execution_count": null,
      "outputs": []
    }
  ]
}