{
  "metadata": {
    "language_info": {
      "codemirror_mode": {
        "name": "python",
        "version": 3
      },
      "file_extension": ".py",
      "mimetype": "text/x-python",
      "name": "python",
      "nbconvert_exporter": "python",
      "pygments_lexer": "ipython3",
      "version": "3.8"
    },
    "kernelspec": {
      "name": "python",
      "display_name": "Python (Pyodide)",
      "language": "python"
    }
  },
  "nbformat_minor": 4,
  "nbformat": 4,
  "cells": [
    {
      "cell_type": "markdown",
      "source": "Задача 1.  Когда используется критерий Стьюдента, а когда Z –критерий?  \n\nZ-критерий используется, когда известно среднее квадратичное отклонение, а критерий Стьюдента, когда отклонение неизвестно.",
      "metadata": {}
    },
    {
      "cell_type": "markdown",
      "source": "Задача 2. Проведите тест гипотезы. Утверждается, что шарики для подшипников, изготовленные автоматическим станком, имеют средний диаметр 17 мм.\nИспользуя односторонний критерий с α=0,05, проверить эту гипотезу, если в выборке из n=100 шариков средний диаметр оказался равным 17.5 мм, а дисперсия известна и равна 4 кв. мм",
      "metadata": {}
    },
    {
      "cell_type": "code",
      "source": "import math\nimport numpy as np\nfrom scipy import stats\n\n(17.5 - 17)/(2/math.sqrt(100))",
      "metadata": {
        "trusted": true
      },
      "execution_count": 18,
      "outputs": [
        {
          "execution_count": 18,
          "output_type": "execute_result",
          "data": {
            "text/plain": "2.5"
          },
          "metadata": {}
        }
      ]
    },
    {
      "cell_type": "markdown",
      "source": "2,5 > 1,645 отвергаем Н0 ",
      "metadata": {}
    },
    {
      "cell_type": "markdown",
      "source": "Задача 3. Проведите тест гипотезы. Продавец утверждает, что средний вес пачки печенья составляет 200 г.\nИз партии извлечена выборка из 10 пачек. Вес каждой пачки составляет:\n202, 203, 199, 197, 195, 201, 200, 204, 194, 190.\nИзвестно, что их веса распределены нормально. Верно ли утверждение продавца, если учитывать, что доверительная вероятность равна 99%? (Провести двусторонний тест.)",
      "metadata": {}
    },
    {
      "cell_type": "code",
      "source": "array = np.array([202, 203, 199, 197, 195, 201, 200, 204, 194, 190])",
      "metadata": {
        "trusted": true
      },
      "execution_count": 19,
      "outputs": []
    },
    {
      "cell_type": "code",
      "source": "avg = array.sum()/array.size\navg",
      "metadata": {
        "trusted": true
      },
      "execution_count": 20,
      "outputs": [
        {
          "execution_count": 20,
          "output_type": "execute_result",
          "data": {
            "text/plain": "198.5"
          },
          "metadata": {}
        }
      ]
    },
    {
      "cell_type": "code",
      "source": "sigma = math.sqrt(np.sum((array - avg)**2) / (array.size - 1))\nsigma",
      "metadata": {
        "trusted": true
      },
      "execution_count": 21,
      "outputs": [
        {
          "execution_count": 21,
          "output_type": "execute_result",
          "data": {
            "text/plain": "4.453463071962462"
          },
          "metadata": {}
        }
      ]
    },
    {
      "cell_type": "code",
      "source": "(200 - avg)/(sigma/math.sqrt(array.size))",
      "metadata": {
        "trusted": true
      },
      "execution_count": 22,
      "outputs": [
        {
          "execution_count": 22,
          "output_type": "execute_result",
          "data": {
            "text/plain": "1.0651074037450896"
          },
          "metadata": {}
        }
      ]
    },
    {
      "cell_type": "markdown",
      "source": "1,065 < 4,81, принимаем Н0, средний вес пачки 200г.",
      "metadata": {}
    },
    {
      "cell_type": "markdown",
      "source": "Задача 4. Есть ли статистически значимые различия в росте дочерей?\nРост матерей 172, 177, 158, 170, 178,175, 164, 160, 169\nРост взрослых дочерей: 173, 175, 162, 174, 175, 168, 155, 170, 160",
      "metadata": {}
    },
    {
      "cell_type": "code",
      "source": "mothers = np.array([172,177,158,170,178,175,164,160,169])\ndaughters = np.array([173,175,162,174,175,168,155,170,160])\n\nstats.ttest_rel(mothers, daughters)",
      "metadata": {
        "trusted": true
      },
      "execution_count": 23,
      "outputs": [
        {
          "execution_count": 23,
          "output_type": "execute_result",
          "data": {
            "text/plain": "Ttest_relResult(statistic=0.559522990335608, pvalue=0.5911212354055175)"
          },
          "metadata": {}
        }
      ]
    },
    {
      "cell_type": "markdown",
      "source": "Принимаем Н0, статистически значимые различия в росте дочерей отсутствуют",
      "metadata": {}
    }
  ]
}