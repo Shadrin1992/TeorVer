{
  "metadata": {
    "language_info": {
      "codemirror_mode": {
        "name": "python",
        "version": 3
      },
      "file_extension": ".py",
      "mimetype": "text/x-python",
      "name": "python",
      "nbconvert_exporter": "python",
      "pygments_lexer": "ipython3",
      "version": "3.8"
    },
    "kernelspec": {
      "name": "python",
      "display_name": "Python (Pyodide)",
      "language": "python"
    }
  },
  "nbformat_minor": 4,
  "nbformat": 4,
  "cells": [
    {
      "cell_type": "markdown",
      "source": "Провести дисперсионный анализ для определения того, есть ли различия среднего роста среди взрослых футболистов, хоккеистов и штангистов.\n  \nДаны значения роста в трех группах случайно выбранных спортсменов:  \nФутболисты: 173, 175, 180, 178, 177, 185, 183, 182.  \nХоккеисты: 177, 179, 180, 188, 177, 172, 171, 184, 180.  \nШтангисты: 172, 173, 169, 177, 166, 180, 178, 177, 172, 166, 170.",
      "metadata": {}
    },
    {
      "cell_type": "code",
      "source": "import numpy as np\nfrom scipy import stats",
      "metadata": {
        "trusted": true
      },
      "execution_count": 1,
      "outputs": []
    },
    {
      "cell_type": "code",
      "source": "football = np.array([173, 175, 180, 178, 177, 185, 183, 182])\nhockey = np.array([177, 179, 180, 188, 177, 172, 171, 184, 180])\nweightlifting = np.array([172, 173, 169, 177, 166, 180, 178, 177, 172, 166, 170])\nn1 = football.shape[0]\nn2 = hockey.shape[0]\nn3 = weightlifting.shape[0]",
      "metadata": {
        "trusted": true
      },
      "execution_count": 2,
      "outputs": []
    },
    {
      "cell_type": "code",
      "source": "football_mean = football.mean()\nhockey_mean = hockey.mean()\nweightlifting_mean = weightlifting.mean()\n\nprint(f'Средний рост футболистов: {round(football_mean, 2)}\\n'\\\n      f'Средний рост хоккеистов: {round(hockey_mean, 2)}\\n'\\\n      f'Средний рост штангистов: {round(weightlifting_mean, 2)}\\n')",
      "metadata": {
        "trusted": true
      },
      "execution_count": 3,
      "outputs": [
        {
          "name": "stdout",
          "text": "Средний рост футболистов: 179.12\nСредний рост хоккеистов: 178.67\nСредний рост штангистов: 172.73\n\n",
          "output_type": "stream"
        }
      ]
    },
    {
      "cell_type": "code",
      "source": "total = np.concatenate([football, hockey, weightlifting])\n\ny_mean_total = np.mean(total)\ny_mean_total #Среднее значение роста спортсменов\n\nS2_F = n1 * (football_mean - y_mean_total) ** 2 + n2 * (hockey_mean - y_mean_total) ** 2 + n3 * (weightlifting_mean - y_mean_total) ** 2\nS2_ost = ((football - football_mean) ** 2).sum() + ((hockey - hockey_mean) ** 2).sum() + ((weightlifting - weightlifting_mean) ** 2).sum()\nS2 = ((total - y_mean_total) ** 2).sum()\n\nprint(f'Сумма квадратов отклонений среди групповых значений от общего среднего: {round(S2_F, 2)}\\n'\\\n      f'Остаточная сумма квадратов отклонений: {round(S2_ost, 2)}\\n'\\\n      f'Сумма квадратов отклонений наблюдений от общего среднего: {round(S2, 2)}\\n')",
      "metadata": {
        "trusted": true
      },
      "execution_count": 4,
      "outputs": [
        {
          "name": "stdout",
          "text": "Сумма квадратов отклонений среди групповых значений от общего среднего: 253.91\nОстаточная сумма квадратов отклонений: 577.06\nСумма квадратов отклонений наблюдений от общего среднего: 830.96\n\n",
          "output_type": "stream"
        }
      ]
    },
    {
      "cell_type": "code",
      "source": "k = 3\nn = n1 + n2 + n3\n\nk1 = k - 1\nk2 = n - k\n\nsigma2_F = S2_F / k1\nsigma2_ost = S2_ost / k2\nT = sigma2_F / sigma2_ost\n\nprint(f'Факторная дисперсия: {round(sigma2_F, 2)}\\n'\\\n      f'Остаточная дисперсия: {round(sigma2_ost, 2)}\\n'\\\n      f'Значение статистики: {round(T, 2)}\\n')",
      "metadata": {
        "trusted": true
      },
      "execution_count": 5,
      "outputs": [
        {
          "name": "stdout",
          "text": "Факторная дисперсия: 126.95\nОстаточная дисперсия: 23.08\nЗначение статистики: 5.5\n\n",
          "output_type": "stream"
        }
      ]
    },
    {
      "cell_type": "code",
      "source": "stats.f_oneway(football, hockey, weightlifting)",
      "metadata": {
        "trusted": true
      },
      "execution_count": 6,
      "outputs": [
        {
          "execution_count": 6,
          "output_type": "execute_result",
          "data": {
            "text/plain": "F_onewayResult(statistic=5.500053450812596, pvalue=0.010482206918698694)"
          },
          "metadata": {}
        }
      ]
    },
    {
      "cell_type": "code",
      "source": "alpha = 0.05\nF_crit = stats.f.ppf(1 - alpha, k1, k2)\nF_crit",
      "metadata": {
        "trusted": true
      },
      "execution_count": 7,
      "outputs": [
        {
          "execution_count": 7,
          "output_type": "execute_result",
          "data": {
            "text/plain": "3.3851899614491687"
          },
          "metadata": {}
        }
      ]
    },
    {
      "cell_type": "markdown",
      "source": "**Вывод**:  \npvalue=0.010482206918698694. Это значение меньше, чем альфа=0.05., делаем вывод в пользу альтернативной гипотезы.   \nТак как T(значение статистики) > F_crit(критического значения) делаем вывод, что отличие среднего роста спортсменов, является статистически значимым.",
      "metadata": {}
    },
    {
      "cell_type": "code",
      "source": "",
      "metadata": {},
      "execution_count": null,
      "outputs": []
    }
  ]
}