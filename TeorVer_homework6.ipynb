{
  "metadata": {
    "language_info": {
      "codemirror_mode": {
        "name": "python",
        "version": 3
      },
      "file_extension": ".py",
      "mimetype": "text/x-python",
      "name": "python",
      "nbconvert_exporter": "python",
      "pygments_lexer": "ipython3",
      "version": "3.8"
    },
    "kernelspec": {
      "name": "python",
      "display_name": "Python (Pyodide)",
      "language": "python"
    }
  },
  "nbformat_minor": 4,
  "nbformat": 4,
  "cells": [
    {
      "cell_type": "markdown",
      "source": "**Задача 1.**  Известно, что генеральная совокупность распределена нормально со средним квадратическим отклонением, равным 16.\nНайти доверительный интервал для оценки математического ожидания a с надежностью 0.95, если выборочная средняя M = 80, а объем выборки n = 256.",
      "metadata": {}
    },
    {
      "cell_type": "code",
      "source": "import numpy as np\nfrom scipy import stats",
      "metadata": {
        "trusted": true
      },
      "execution_count": 8,
      "outputs": []
    },
    {
      "cell_type": "code",
      "source": "#Доверительный интервал для среднего\n\na1 = 80 - (1.96*16/np.sqrt(256))\na2 = 80 + (1.96*16/np.sqrt(256))\nprint(f'Доверительный интервал для среднего: [{a1}, {a2}]')",
      "metadata": {
        "trusted": true
      },
      "execution_count": 9,
      "outputs": [
        {
          "name": "stdout",
          "text": "Доверительный интервал для среднего: [78.04, 81.96]\n",
          "output_type": "stream"
        }
      ]
    },
    {
      "cell_type": "markdown",
      "source": "**Задача 2.**  В результате 10 независимых измерений некоторой величины X, выполненных с одинаковой точностью, получены опытные данные:  \n6.9, 6.1, 6.2, 6.8, 7.5, 6.3, 6.4, 6.9, 6.7, 6.1  \nПредполагая, что результаты измерений подчинены нормальному закону распределения вероятностей, оценить истинное значение величины X при помощи доверительного интервала, покрывающего это значение с доверительной вероятностью 0,95.",
      "metadata": {}
    },
    {
      "cell_type": "code",
      "source": "a = np.array([6.9, 6.1, 6.2, 6.8, 7.5, 6.3, 6.4, 6.9, 6.7, 6.1])\n\navg = np.mean(a)\nd = np.var(a, ddof=1)\nt = stats.t.ppf(0.975, 9)\n\nx1 = avg - t*np.sqrt(d/10)\nx2 = avg + t*np.sqrt(d/10)\nprint(f'Доверительный интервал для среднего: [{round(x1, 2)}, {round(x2, 2)}]')",
      "metadata": {
        "trusted": true
      },
      "execution_count": 10,
      "outputs": [
        {
          "name": "stdout",
          "text": "Доверительный интервал для среднего: [6.27, 6.91]\n",
          "output_type": "stream"
        }
      ]
    },
    {
      "cell_type": "markdown",
      "source": "**Задача 3.**  Рост дочерей 175, 167, 154, 174, 178, 148, 160, 167, 169, 170  \nРост матерей  178, 165, 165, 173, 168, 155, 160, 164, 178, 175  \nИспользуя эти данные построить 95% доверительный интервал для разности среднего роста родителей и детей.",
      "metadata": {}
    },
    {
      "cell_type": "code",
      "source": "daughters = np.array([175, 167, 154, 174, 178, 148, 160, 167, 169, 170])\nmothers = np.array([178, 165, 165, 173, 168, 155, 160, 164, 178, 175])\n\ndaughters_mean = np.mean(daughters)\nmothers_mean = np.mean(mothers)\ndelta = mothers_mean - daughters_mean\n\nd1 = np.var(daughters, ddof=1)\nd2 = np.var(mothers, ddof=1)\nd = (d1 + d2)/2\n\nsigma = np.sqrt(d/10+d/10)\n\nt = stats.t.ppf(0.975, 18)\n\nx1 = d - t*sigma\nx2 = d + t*sigma\nprint(f'Доверительный интервал для среднего: [{round(x1, 2)}, {round(x2, 2)}]')",
      "metadata": {
        "trusted": true
      },
      "execution_count": 11,
      "outputs": [
        {
          "name": "stdout",
          "text": "Доверительный интервал для среднего: [67.41, 83.75]\n",
          "output_type": "stream"
        }
      ]
    }
  ]
}