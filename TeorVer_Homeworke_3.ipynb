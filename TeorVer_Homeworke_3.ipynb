{
  "metadata": {
    "language_info": {
      "codemirror_mode": {
        "name": "python",
        "version": 3
      },
      "file_extension": ".py",
      "mimetype": "text/x-python",
      "name": "python",
      "nbconvert_exporter": "python",
      "pygments_lexer": "ipython3",
      "version": "3.8"
    },
    "kernelspec": {
      "name": "python",
      "display_name": "Python (Pyodide)",
      "language": "python"
    }
  },
  "nbformat_minor": 4,
  "nbformat": 4,
  "cells": [
    {
      "cell_type": "code",
      "source": "import numpy as np\nfrom math import factorial as fl\n\n# сочетания\ndef combinations(k, n):\n    return fl(n) / (fl(k) * fl(n - k))",
      "metadata": {
        "trusted": true
      },
      "execution_count": 1,
      "outputs": []
    },
    {
      "cell_type": "markdown",
      "source": "Задача 1.   \nДаны значения зарплат из выборки выпускников: 100, 80, 75, 77, 89, 33, 45, 25, 65, 17, 30, 24, 57, 55, 70, 75, 65, 84, 90, 150. Посчитать (желательно без использования статистических методов наподобие std, var, mean):",
      "metadata": {}
    },
    {
      "cell_type": "code",
      "source": "salaries = np.array([100, 80, 75, 77, 89, 33, 45, 25, 65, 17, 30, 24, 57, 55, 70, 75, 65, 84, 90, 150])",
      "metadata": {
        "trusted": true
      },
      "execution_count": 2,
      "outputs": []
    },
    {
      "cell_type": "markdown",
      "source": "Cреднее арифметическое",
      "metadata": {}
    },
    {
      "cell_type": "code",
      "source": "salaries_mean = salaries.sum() / salaries.size\nsalaries_mean",
      "metadata": {
        "trusted": true
      },
      "execution_count": 7,
      "outputs": [
        {
          "execution_count": 7,
          "output_type": "execute_result",
          "data": {
            "text/plain": "65.3"
          },
          "metadata": {}
        }
      ]
    },
    {
      "cell_type": "markdown",
      "source": "Cреднее квадратичное отклонение",
      "metadata": {}
    },
    {
      "cell_type": "code",
      "source": "(np.sum((salaries - salaries_mean)**2) / salaries.size)**0.5",
      "metadata": {
        "trusted": true
      },
      "execution_count": 4,
      "outputs": [
        {
          "execution_count": 4,
          "output_type": "execute_result",
          "data": {
            "text/plain": "30.823854398825596"
          },
          "metadata": {}
        }
      ]
    },
    {
      "cell_type": "markdown",
      "source": "Cмещенную дисперсию",
      "metadata": {}
    },
    {
      "cell_type": "code",
      "source": "np.sum((salaries - salaries_mean)**2) / salaries.size",
      "metadata": {
        "trusted": true
      },
      "execution_count": 5,
      "outputs": [
        {
          "execution_count": 5,
          "output_type": "execute_result",
          "data": {
            "text/plain": "950.11"
          },
          "metadata": {}
        }
      ]
    },
    {
      "cell_type": "markdown",
      "source": "Несмещенную дисперсию",
      "metadata": {}
    },
    {
      "cell_type": "code",
      "source": "np.sum((salaries - salaries_mean)**2) / (salaries.size - 1)",
      "metadata": {
        "trusted": true
      },
      "execution_count": 6,
      "outputs": [
        {
          "execution_count": 6,
          "output_type": "execute_result",
          "data": {
            "text/plain": "1000.1157894736842"
          },
          "metadata": {}
        }
      ]
    },
    {
      "cell_type": "markdown",
      "source": "Задача 2.  \nВ первом ящике находится 8 мячей, из которых 5 - белые. Во втором ящике - 12 мячей, из которых 5 белых. Из первого ящика вытаскивают случайным образом 2 мяча, из второго - 4. Какова вероятность того, что 3 мяча белые?",
      "metadata": {}
    },
    {
      "cell_type": "code",
      "source": "p1 = ((combinations(2,3)*combinations(0,5))/combinations(2,8))*((combinations(1,7)*combinations(3,5))/combinations(4,12))\np1",
      "metadata": {
        "trusted": true
      },
      "execution_count": 11,
      "outputs": [
        {
          "execution_count": 11,
          "output_type": "execute_result",
          "data": {
            "text/plain": "0.01515151515151515"
          },
          "metadata": {}
        }
      ]
    },
    {
      "cell_type": "code",
      "source": "p2 = ((combinations(1,3)*combinations(1,5))/combinations(2,8))*((combinations(2,7)*combinations(2,5))/combinations(4,12))\np2",
      "metadata": {
        "trusted": true
      },
      "execution_count": 12,
      "outputs": [
        {
          "execution_count": 12,
          "output_type": "execute_result",
          "data": {
            "text/plain": "0.22727272727272727"
          },
          "metadata": {}
        }
      ]
    },
    {
      "cell_type": "code",
      "source": "p3 = ((combinations(0,3)*combinations(2,5))/combinations(2,8))*((combinations(3,7)*combinations(1,5))/combinations(4,12))\np3",
      "metadata": {
        "trusted": true
      },
      "execution_count": 13,
      "outputs": [
        {
          "execution_count": 13,
          "output_type": "execute_result",
          "data": {
            "text/plain": "0.12626262626262627"
          },
          "metadata": {}
        }
      ]
    },
    {
      "cell_type": "code",
      "source": "p = p1 + p2 + p3\np",
      "metadata": {
        "trusted": true
      },
      "execution_count": 14,
      "outputs": [
        {
          "execution_count": 14,
          "output_type": "execute_result",
          "data": {
            "text/plain": "0.3686868686868687"
          },
          "metadata": {}
        }
      ]
    },
    {
      "cell_type": "markdown",
      "source": "Задача 3.  \nНа соревновании по биатлону один из трех спортсменов стреляет и попадает в мишень. Вероятность попадания для первого спортсмена равна 0.9, для второго — 0.8, для третьего — 0.6. Найти вероятность того, что выстрел произведен:",
      "metadata": {}
    },
    {
      "cell_type": "code",
      "source": "A = 1/3 * 0.9 + 1/3 * 0.8 + 1/3 * 0.6\nA",
      "metadata": {
        "trusted": true
      },
      "execution_count": 15,
      "outputs": [
        {
          "execution_count": 15,
          "output_type": "execute_result",
          "data": {
            "text/plain": "0.7666666666666666"
          },
          "metadata": {}
        }
      ]
    },
    {
      "cell_type": "markdown",
      "source": "a). первым спортсменом",
      "metadata": {}
    },
    {
      "cell_type": "code",
      "source": "(1/3 * 0.9) / A",
      "metadata": {
        "trusted": true
      },
      "execution_count": 16,
      "outputs": [
        {
          "execution_count": 16,
          "output_type": "execute_result",
          "data": {
            "text/plain": "0.391304347826087"
          },
          "metadata": {}
        }
      ]
    },
    {
      "cell_type": "markdown",
      "source": "б). вторым спортсменом",
      "metadata": {}
    },
    {
      "cell_type": "code",
      "source": "(1/3 * 0.8) / A",
      "metadata": {
        "trusted": true
      },
      "execution_count": 17,
      "outputs": [
        {
          "execution_count": 17,
          "output_type": "execute_result",
          "data": {
            "text/plain": "0.3478260869565218"
          },
          "metadata": {}
        }
      ]
    },
    {
      "cell_type": "markdown",
      "source": "в). третьим спортсменом",
      "metadata": {}
    },
    {
      "cell_type": "code",
      "source": "(1/3 * 0.6) / A",
      "metadata": {
        "trusted": true
      },
      "execution_count": 18,
      "outputs": [
        {
          "execution_count": 18,
          "output_type": "execute_result",
          "data": {
            "text/plain": "0.2608695652173913"
          },
          "metadata": {}
        }
      ]
    },
    {
      "cell_type": "markdown",
      "source": "Задача 4.  \nВ университет на факультеты A и B поступило равное количество студентов, а на факультет C студентов поступило столько же, сколько на A и B вместе. Вероятность того, что студент факультета A сдаст первую сессию, равна 0.8. Для студента факультета B эта вероятность равна 0.7, а для студента факультета C - 0.9. Студент сдал первую сессию. Какова вероятность, что он учится: a). на факультете A б). на факультете B в). на факультете C?",
      "metadata": {}
    },
    {
      "cell_type": "code",
      "source": "A = 1/4 * 0.8 + 1/4 * 0.7 + 1/2 * 0.9\nA",
      "metadata": {
        "trusted": true
      },
      "execution_count": 19,
      "outputs": [
        {
          "execution_count": 19,
          "output_type": "execute_result",
          "data": {
            "text/plain": "0.825"
          },
          "metadata": {}
        }
      ]
    },
    {
      "cell_type": "markdown",
      "source": "a). на факультете A",
      "metadata": {}
    },
    {
      "cell_type": "code",
      "source": "(1/4 * 0.8) / A",
      "metadata": {
        "trusted": true
      },
      "execution_count": 20,
      "outputs": [
        {
          "execution_count": 20,
          "output_type": "execute_result",
          "data": {
            "text/plain": "0.24242424242424246"
          },
          "metadata": {}
        }
      ]
    },
    {
      "cell_type": "markdown",
      "source": "a). на факультете В",
      "metadata": {}
    },
    {
      "cell_type": "code",
      "source": "(1/4 * 0.7) / A",
      "metadata": {
        "trusted": true
      },
      "execution_count": 21,
      "outputs": [
        {
          "execution_count": 21,
          "output_type": "execute_result",
          "data": {
            "text/plain": "0.21212121212121213"
          },
          "metadata": {}
        }
      ]
    },
    {
      "cell_type": "markdown",
      "source": "a). на факультете С",
      "metadata": {}
    },
    {
      "cell_type": "code",
      "source": "(1/4 * 0.9) / A",
      "metadata": {
        "trusted": true
      },
      "execution_count": 22,
      "outputs": [
        {
          "execution_count": 22,
          "output_type": "execute_result",
          "data": {
            "text/plain": "0.27272727272727276"
          },
          "metadata": {}
        }
      ]
    },
    {
      "cell_type": "markdown",
      "source": "Задача5.  \nУстройство состоит из трех деталей. Для первой детали вероятность выйти из строя в первый месяц равна 0.1, для второй - 0.2, для третьей - 0.25. Какова вероятность того, что в первый месяц выйдут из строя: а). все детали б). только две детали в). хотя бы одна деталь г). от одной до двух деталей?",
      "metadata": {}
    },
    {
      "cell_type": "markdown",
      "source": "а). все детали",
      "metadata": {}
    },
    {
      "cell_type": "code",
      "source": "0.1*0.2*0.25",
      "metadata": {
        "trusted": true
      },
      "execution_count": 23,
      "outputs": [
        {
          "execution_count": 23,
          "output_type": "execute_result",
          "data": {
            "text/plain": "0.005000000000000001"
          },
          "metadata": {}
        }
      ]
    },
    {
      "cell_type": "markdown",
      "source": "б). только две детали",
      "metadata": {}
    },
    {
      "cell_type": "code",
      "source": "0.1*0.2*0.75+0.9*0.2*0.25+0.1*0.8*0.25",
      "metadata": {
        "trusted": true
      },
      "execution_count": 24,
      "outputs": [
        {
          "execution_count": 24,
          "output_type": "execute_result",
          "data": {
            "text/plain": "0.08000000000000002"
          },
          "metadata": {}
        }
      ]
    },
    {
      "cell_type": "markdown",
      "source": "в). хотя бы одна деталь",
      "metadata": {}
    },
    {
      "cell_type": "code",
      "source": "1-0.9*0.8*0.75",
      "metadata": {
        "trusted": true
      },
      "execution_count": 25,
      "outputs": [
        {
          "execution_count": 25,
          "output_type": "execute_result",
          "data": {
            "text/plain": "0.45999999999999996"
          },
          "metadata": {}
        }
      ]
    },
    {
      "cell_type": "markdown",
      "source": "г). от одной до двух деталей",
      "metadata": {}
    },
    {
      "cell_type": "code",
      "source": "0.46+0.08 - (0.46*0.08)",
      "metadata": {
        "trusted": true
      },
      "execution_count": 26,
      "outputs": [
        {
          "execution_count": 26,
          "output_type": "execute_result",
          "data": {
            "text/plain": "0.5032000000000001"
          },
          "metadata": {}
        }
      ]
    },
    {
      "cell_type": "code",
      "source": "",
      "metadata": {},
      "execution_count": null,
      "outputs": []
    }
  ]
}