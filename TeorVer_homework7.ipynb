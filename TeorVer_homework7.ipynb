{
  "metadata": {
    "language_info": {
      "codemirror_mode": {
        "name": "python",
        "version": 3
      },
      "file_extension": ".py",
      "mimetype": "text/x-python",
      "name": "python",
      "nbconvert_exporter": "python",
      "pygments_lexer": "ipython3",
      "version": "3.8"
    },
    "kernelspec": {
      "name": "python",
      "display_name": "Python (Pyodide)",
      "language": "python"
    }
  },
  "nbformat_minor": 4,
  "nbformat": 4,
  "cells": [
    {
      "cell_type": "markdown",
      "source": "**Задача 1.** Даны две  независимые выборки. Не соблюдается условие нормальности  \nx1  380, 420, 290  \ny1 140, 360, 200, 900  \nСделайте вывод по результатам, полученным с помощью функции",
      "metadata": {}
    },
    {
      "cell_type": "code",
      "source": "import numpy as np\nfrom scipy import stats",
      "metadata": {
        "trusted": true
      },
      "execution_count": 1,
      "outputs": []
    },
    {
      "cell_type": "code",
      "source": "x1 = np.array([380, 420, 290])\ny1 = np.array([140, 360, 200, 900])\n\nstats.mannwhitneyu(x1, y1)",
      "metadata": {
        "trusted": true
      },
      "execution_count": 2,
      "outputs": [
        {
          "execution_count": 2,
          "output_type": "execute_result",
          "data": {
            "text/plain": "MannwhitneyuResult(statistic=8.0, pvalue=0.6285714285714286)"
          },
          "metadata": {}
        }
      ]
    },
    {
      "cell_type": "markdown",
      "source": "Статистически значимых отличий не обнаружено.",
      "metadata": {}
    },
    {
      "cell_type": "markdown",
      "source": "**Задача 2.** Исследовалось влияние препарата на уровень давления пациентов. Сначала измерялось давление до приема препарата, потом через 10 минут и через 30 минут. Есть ли статистически значимые различия?  \n1е измерение до приема препарата: 150, 160, 165, 145, 155  \n2е измерение через 10 минут: 140, 155, 150,  130, 135  \n3е измерение через 30 минут: 130, 130, 120, 130, 125",
      "metadata": {}
    },
    {
      "cell_type": "code",
      "source": "x1 = np.array([150, 160, 165, 145, 155])\nx2 = np.array([140, 155, 150, 130, 135])\nx3 = np.array([130, 130, 120, 130, 125])\n\nstats.friedmanchisquare(x1,x2,x3)",
      "metadata": {
        "trusted": true
      },
      "execution_count": 4,
      "outputs": [
        {
          "execution_count": 4,
          "output_type": "execute_result",
          "data": {
            "text/plain": "FriedmanchisquareResult(statistic=9.578947368421062, pvalue=0.00831683351100441)"
          },
          "metadata": {}
        }
      ]
    },
    {
      "cell_type": "markdown",
      "source": "Есть статистически значимые различия",
      "metadata": {}
    },
    {
      "cell_type": "markdown",
      "source": "**Задача 3.** Сравните 1 и 2 е измерения, предполагая, что 3го измерения через 30 минут не было.",
      "metadata": {}
    },
    {
      "cell_type": "code",
      "source": "stats.wilcoxon(x1,x2)",
      "metadata": {
        "trusted": true
      },
      "execution_count": 5,
      "outputs": [
        {
          "execution_count": 5,
          "output_type": "execute_result",
          "data": {
            "text/plain": "WilcoxonResult(statistic=0.0, pvalue=0.0625)"
          },
          "metadata": {}
        }
      ]
    },
    {
      "cell_type": "markdown",
      "source": "Между первым и вторым измерениями, статистически значимых отличий нет.",
      "metadata": {}
    },
    {
      "cell_type": "markdown",
      "source": "**Задача 4.** Даны 3 группы  учеников плавания. Сделайте вывод по различиям.  \nВ 1 группе время на дистанцию 50 м составляют:  \n56, 60, 62, 55, 71, 67, 59, 58, 64, 67  \nВторая группа :  \n57, 58, 69, 48, 72, 70, 68, 71, 50, 53  \nТретья группа:  \n57, 67, 49, 48, 47, 55, 66, 51, 54",
      "metadata": {}
    },
    {
      "cell_type": "code",
      "source": "x1 = np.array([56, 60, 62, 55, 71, 67, 59, 58, 64, 67])\nx2 = np.array([57, 58, 69, 48, 72, 70, 68, 71, 50, 53])\nx3 = np.array([57, 67, 49, 48, 47, 55, 66, 51, 54])\n\nstats.kruskal(x1,x2,x3)",
      "metadata": {
        "trusted": true
      },
      "execution_count": 6,
      "outputs": [
        {
          "execution_count": 6,
          "output_type": "execute_result",
          "data": {
            "text/plain": "KruskalResult(statistic=5.465564058257224, pvalue=0.0650380998590494)"
          },
          "metadata": {}
        }
      ]
    },
    {
      "cell_type": "markdown",
      "source": "Статистически значимых отличий не обнаружено",
      "metadata": {}
    },
    {
      "cell_type": "markdown",
      "source": "**Задача 5.** Заявляется, что партия изготавливается со средним арифметическим 2,5 см. Проверить данную гипотезу, если известно, что размеры изделий подчинены нормальному закону распределения. Объем выборки 10, уровень статистической значимости 5%  \n2.51, 2.35, 2.74, 2.56, 2.40, 2.36, 2.65, 2.7, 2.67, 2.34 ",
      "metadata": {}
    },
    {
      "cell_type": "code",
      "source": "array = np.array([2.51, 2.35, 2.74, 2.56, 2.40, 2.36, 2.65, 2.7, 2.67, 2.34])\n\navg = array.sum()/array.size\nsigma = np.sqrt(np.sum((array - avg)**2) / (array.size - 1))\n\n(avg - 2.5)/(sigma/np.sqrt(array.size))",
      "metadata": {
        "trusted": true
      },
      "execution_count": 8,
      "outputs": [
        {
          "execution_count": 8,
          "output_type": "execute_result",
          "data": {
            "text/plain": "0.5630613661802959"
          },
          "metadata": {}
        }
      ]
    },
    {
      "cell_type": "code",
      "source": "stats.t.ppf(1 - 0.05/2, 10 - 1)",
      "metadata": {
        "trusted": true
      },
      "execution_count": 9,
      "outputs": [
        {
          "execution_count": 9,
          "output_type": "execute_result",
          "data": {
            "text/plain": "2.2621571627409915"
          },
          "metadata": {}
        }
      ]
    },
    {
      "cell_type": "markdown",
      "source": "0,56 < 2,26, принимаем Н0, партия изготавливается со средним арифметическим 2,5 см.",
      "metadata": {}
    }
  ]
}
