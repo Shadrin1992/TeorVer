{
  "metadata": {
    "language_info": {
      "codemirror_mode": {
        "name": "python",
        "version": 3
      },
      "file_extension": ".py",
      "mimetype": "text/x-python",
      "name": "python",
      "nbconvert_exporter": "python",
      "pygments_lexer": "ipython3",
      "version": "3.8"
    },
    "kernelspec": {
      "name": "python",
      "display_name": "Python (Pyodide)",
      "language": "python"
    }
  },
  "nbformat_minor": 4,
  "nbformat": 4,
  "cells": [
    {
      "cell_type": "markdown",
      "source": "**Задача 1.** Даны значения величины заработной платы заемщиков банка (zp) и значения их поведенческого кредитного скоринга (ks):  \nzp = [35, 45, 190, 200, 40, 70, 54, 150, 120, 110],  \nks = [401, 574, 874, 919, 459, 739, 653, 902, 746, 832].  \nНайдите ковариацию этих двух величин с помощью элементарных действий, а затем с помощью функции cov из numpy  \nПолученные значения должны быть равны.  \nНайдите коэффициент корреляции Пирсона с помощью ковариации и среднеквадратичных отклонений двух признаков, а затем с использованием функций из библиотек numpy и pandas. ",
      "metadata": {}
    },
    {
      "cell_type": "code",
      "source": "import numpy as np\nfrom scipy import stats",
      "metadata": {
        "trusted": true
      },
      "execution_count": 1,
      "outputs": []
    },
    {
      "cell_type": "code",
      "source": "zp = np.array([35, 45, 190, 200, 40, 70, 54, 150, 120, 110])\nks = np.array([401, 574, 874, 919, 459, 739, 653, 902, 746, 832])\n\nnp.cov(zp,ks,ddof = 0)",
      "metadata": {
        "trusted": true
      },
      "execution_count": 2,
      "outputs": [
        {
          "execution_count": 2,
          "output_type": "execute_result",
          "data": {
            "text/plain": "array([[ 3494.64,  9157.84],\n       [ 9157.84, 30468.89]])"
          },
          "metadata": {}
        }
      ]
    },
    {
      "cell_type": "code",
      "source": "cov = np.mean(zp*ks) - np.mean(zp)*np.mean(ks)\ncov",
      "metadata": {
        "trusted": true
      },
      "execution_count": 3,
      "outputs": [
        {
          "execution_count": 3,
          "output_type": "execute_result",
          "data": {
            "text/plain": "9157.839999999997"
          },
          "metadata": {}
        }
      ]
    },
    {
      "cell_type": "code",
      "source": "np.corrcoef(zp,ks)",
      "metadata": {
        "trusted": true
      },
      "execution_count": 4,
      "outputs": [
        {
          "execution_count": 4,
          "output_type": "execute_result",
          "data": {
            "text/plain": "array([[1.        , 0.88749009],\n       [0.88749009, 1.        ]])"
          },
          "metadata": {}
        }
      ]
    },
    {
      "cell_type": "code",
      "source": "np.cov(zp,ks,ddof = 0)/(np.std(zp,ddof = 0)*np.std(ks,ddof = 0))",
      "metadata": {
        "trusted": true
      },
      "execution_count": 5,
      "outputs": [
        {
          "execution_count": 5,
          "output_type": "execute_result",
          "data": {
            "text/plain": "array([[0.33866702, 0.88749009],\n       [0.88749009, 2.95275283]])"
          },
          "metadata": {}
        }
      ]
    },
    {
      "cell_type": "markdown",
      "source": "**Задача 2.** Измерены значения IQ выборки студентов, обучающихся в местных технических вузах:  \n131, 125, 115, 122, 131, 115, 107, 99, 125, 111.  \nИзвестно, что в генеральной совокупности IQ распределен нормально.  \nНайдите доверительный интервал для математического ожидания с надежностью 0.95.",
      "metadata": {}
    },
    {
      "cell_type": "code",
      "source": "a = np.array([131, 125, 115, 122, 131, 115, 107, 99, 125, 111])\n\navg = np.mean(a)\nd = np.var(a, ddof=1)\nt = stats.t.ppf(0.975, 9)\n\nx1 = avg - t*np.sqrt(d/10)\nx2 = avg + t*np.sqrt(d/10)\nprint(f'Доверительный интервал для среднего: [{round(x1, 2)}, {round(x2, 2)}]')",
      "metadata": {
        "trusted": true
      },
      "execution_count": 6,
      "outputs": [
        {
          "name": "stdout",
          "text": "Доверительный интервал для среднего: [110.56, 125.64]\n",
          "output_type": "stream"
        }
      ]
    },
    {
      "cell_type": "markdown",
      "source": "**Задача 3.** Известно, что рост футболистов в сборной распределен нормально с дисперсией генеральной совокупности, равной 25 кв.см. Объем выборки равен 27, среднее выборочное составляет 174.2. Найдите доверительный интервал для математического ожидания с надежностью 0.95.",
      "metadata": {}
    },
    {
      "cell_type": "code",
      "source": "a1 = 174.2 - (1.96*5/np.sqrt(27))\na2 = 174.2 + (1.96*5/np.sqrt(27))\nprint(f'Доверительный интервал для среднего: [{round(a1,2)}, {round(a2,2)}]')",
      "metadata": {
        "trusted": true
      },
      "execution_count": 7,
      "outputs": [
        {
          "name": "stdout",
          "text": "Доверительный интервал для среднего: [172.31, 176.09]\n",
          "output_type": "stream"
        }
      ]
    },
    {
      "cell_type": "code",
      "source": "",
      "metadata": {},
      "execution_count": null,
      "outputs": []
    }
  ]
}